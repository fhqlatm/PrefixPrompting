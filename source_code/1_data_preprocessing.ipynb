{
 "cells": [
  {
   "cell_type": "markdown",
   "id": "3d53413b",
   "metadata": {},
   "source": [
    "**Data Preprocessing**"
   ]
  },
  {
   "cell_type": "code",
   "execution_count": 1,
   "id": "2d44302d-c2fa-4058-90e1-166dbf57947c",
   "metadata": {},
   "outputs": [],
   "source": [
    "import os\n",
    "import json"
   ]
  },
  {
   "cell_type": "code",
   "execution_count": 2,
   "id": "54e88a56-fa0b-4c15-9e4b-b95ad1f3fd14",
   "metadata": {},
   "outputs": [],
   "source": [
    "PATH_source = '../nsmc'\n",
    "PATH_data = '../data'\n",
    "raw_train = 'ratings_train.txt'\n",
    "raw_test = 'ratings_test.txt'\n",
    "prepro_train = 'train.json'\n",
    "prepro_test = 'test.json'"
   ]
  },
  {
   "cell_type": "code",
   "execution_count": 3,
   "id": "5be12c8a-2076-4782-9a1a-bb4fec669347",
   "metadata": {},
   "outputs": [],
   "source": [
    "raw_files = [raw_train, raw_test]\n",
    "prepro_files = [prepro_train, prepro_test]"
   ]
  },
  {
   "cell_type": "code",
   "execution_count": 4,
   "id": "05f917e1",
   "metadata": {},
   "outputs": [],
   "source": [
    "for raw_file, prepro_file in zip(raw_files, prepro_files):\n",
    "\tPATH_raw_file = os.path.join(PATH_source, raw_file)\n",
    "\n",
    "\twith open(PATH_raw_file, 'r') as f1:\n",
    "\t\tfdata = f1.readlines()\n",
    "\t\tfdata = list(map(lambda s: s.strip(), fdata))\t# strip(): 개행문자 등 공백 제거\n",
    "\t\tprepro_data = []\n",
    "\n",
    "\t\tfor sdata in fdata[1:]:\n",
    "\t\t\tsdata = sdata.split('\\t')\n",
    "\t\t\tdata = []\n",
    "\n",
    "\t\t\tdata.append(sdata[0])\n",
    "\t\t\tdata.append(sdata[1])\n",
    "\t\t\tdata.append(int(sdata[2]))\n",
    "\t\t\t\n",
    "\t\t\tprepro_data.append(data)\n",
    "\t\t\t\t\n",
    "\t\tPATH_prepro_file = os.path.join(PATH_data, prepro_file)\n",
    "\n",
    "\t\twith open(PATH_prepro_file, 'w') as f2:\n",
    "\t\t\tjson.dump(prepro_data, f2, ensure_ascii=False, indent='\\t')"
   ]
  },
  {
   "cell_type": "code",
   "execution_count": 5,
   "id": "96fa0170",
   "metadata": {},
   "outputs": [
    {
     "data": {
      "text/plain": [
       "[['9976970', '아 더빙.. 진짜 짜증나네요 목소리', 0],\n",
       " ['3819312', '흠...포스터보고 초딩영화줄....오버연기조차 가볍지 않구나', 1],\n",
       " ['10265843', '너무재밓었다그래서보는것을추천한다', 0],\n",
       " ['9045019', '교도소 이야기구먼 ..솔직히 재미는 없다..평점 조정', 0],\n",
       " ['6483659',\n",
       "  '사이몬페그의 익살스런 연기가 돋보였던 영화!스파이더맨에서 늙어보이기만 했던 커스틴 던스트가 너무나도 이뻐보였다',\n",
       "  1]]"
      ]
     },
     "execution_count": 5,
     "metadata": {},
     "output_type": "execute_result"
    }
   ],
   "source": [
    "prepro_train_path = os.path.join(PATH_data, prepro_train)\n",
    "\n",
    "with open(prepro_train_path, 'r') as f:\n",
    "\tprepro_train_data = json.load(f)\n",
    "\n",
    "prepro_train_data[:5]"
   ]
  },
  {
   "cell_type": "code",
   "execution_count": 6,
   "id": "e0b0a0dc",
   "metadata": {},
   "outputs": [
    {
     "data": {
      "text/plain": [
       "[['6270596', '굳 ㅋ', 1],\n",
       " ['9274899', 'GDNTOPCLASSINTHECLUB', 0],\n",
       " ['8544678', '뭐야 이 평점들은.... 나쁘진 않지만 10점 짜리는 더더욱 아니잖아', 0],\n",
       " ['6825595', '지루하지는 않은데 완전 막장임... 돈주고 보기에는....', 0],\n",
       " ['6723715', '3D만 아니었어도 별 다섯 개 줬을텐데.. 왜 3D로 나와서 제 심기를 불편하게 하죠??', 0]]"
      ]
     },
     "execution_count": 6,
     "metadata": {},
     "output_type": "execute_result"
    }
   ],
   "source": [
    "prepro_test_path = os.path.join(PATH_data, prepro_test)\n",
    "\n",
    "with open(prepro_test_path, 'r') as f:\n",
    "\tprepro_test_data = json.load(f)\n",
    "\n",
    "prepro_test_data[:5]\n"
   ]
  },
  {
   "cell_type": "code",
   "execution_count": null,
   "id": "ecca1672",
   "metadata": {},
   "outputs": [],
   "source": []
  },
  {
   "cell_type": "code",
   "execution_count": null,
   "id": "5f755cad",
   "metadata": {},
   "outputs": [],
   "source": []
  }
 ],
 "metadata": {
  "kernelspec": {
   "display_name": "Python 3",
   "language": "python",
   "name": "python3"
  },
  "language_info": {
   "codemirror_mode": {
    "name": "ipython",
    "version": 3
   },
   "file_extension": ".py",
   "mimetype": "text/x-python",
   "name": "python",
   "nbconvert_exporter": "python",
   "pygments_lexer": "ipython3",
   "version": "3.6.13"
  }
 },
 "nbformat": 4,
 "nbformat_minor": 5
}
